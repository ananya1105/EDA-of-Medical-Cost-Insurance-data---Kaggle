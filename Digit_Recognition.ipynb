{
  "nbformat": 4,
  "nbformat_minor": 0,
  "metadata": {
    "colab": {
      "name": "Digit_Recognition.ipynb",
      "provenance": [],
      "collapsed_sections": [],
      "include_colab_link": true
    },
    "kernelspec": {
      "name": "python3",
      "display_name": "Python 3"
    }
  },
  "cells": [
    {
      "cell_type": "markdown",
      "metadata": {
        "id": "view-in-github",
        "colab_type": "text"
      },
      "source": [
        "<a href=\"https://colab.research.google.com/github/ananya1105/EDA-of-Medical-Cost-Insurance-data---Kaggle/blob/master/Digit_Recognition.ipynb\" target=\"_parent\"><img src=\"https://colab.research.google.com/assets/colab-badge.svg\" alt=\"Open In Colab\"/></a>"
      ]
    },
    {
      "cell_type": "code",
      "metadata": {
        "id": "_WVrYXMRqfFx",
        "colab_type": "code",
        "colab": {}
      },
      "source": [
        "#We will write a function to get the data set from the Yan Leucun website.\n",
        "import urllib.request as url\n",
        "import gzip\n",
        "import numpy as np\n",
        "import os\n",
        "import matplotlib.pyplot as plt\n",
        "def load_dataset():\n",
        "    def download(filename, source ='http://yann.lecun.com/exdb/mnist/'):\n",
        "        print(\"Downloading \",filename)\n",
        "        url.urlretrieve(source+filename, filename)\n",
        "    def load_mnist_images(filename):\n",
        "        if not (os.path.exists(filename)):\n",
        "          download(filename)\n",
        "        with gzip.open(filename, 'rb') as f:\n",
        "          data = np.frombuffer(f.read(), np.uint8, offset=16)\n",
        "          data = data.reshape(-1,1,28,28)\n",
        "          return data/np.float32(256)\n",
        "    def load_mnist_labels(filename):\n",
        "        if not os.path.exists(filename):\n",
        "          download(filename)\n",
        "        with gzip.open(filename, 'rb') as f:\n",
        "          data = np.frombuffer(f.read(), np.uint8, offset = 8)\n",
        "          return data\n",
        "    X_train = load_mnist_images('train-images-idx3-ubyte.gz')\n",
        "    Y_train = load_mnist_labels('train-labels-idx1-ubyte.gz')\n",
        "    X_test = load_mnist_images('t10k-images-idx3-ubyte.gz')\n",
        "    Y_test = load_mnist_labels('t10k-labels-idx1-ubyte.gz')\n",
        "    \n",
        "    return X_train, Y_train, X_test, Y_test\n",
        "\n",
        "\n"
      ],
      "execution_count": 0,
      "outputs": []
    },
    {
      "cell_type": "code",
      "metadata": {
        "id": "uxWOfZnVOArn",
        "colab_type": "code",
        "outputId": "51482c61-9fce-4391-817f-34aa6e2c464e",
        "colab": {
          "base_uri": "https://localhost:8080/",
          "height": 265
        }
      },
      "source": [
        "\n",
        "X_train, Y_train, X_test, Y_test = load_dataset()\n",
        "plt.show(plt.imshow(X_train[1][0]))"
      ],
      "execution_count": 0,
      "outputs": [
        {
          "output_type": "display_data",
          "data": {
            "image/png": "[encoded data removed]",
            "text/plain": [
              "<Figure size 432x288 with 1 Axes>"
            ]
          },
          "metadata": {
            "tags": []
          }
        }
      ]
    },
    {
      "cell_type": "code",
      "metadata": {
        "id": "a77V1WaBw741",
        "colab_type": "code",
        "colab": {}
      },
      "source": [
        "import lasagne\n",
        "import theano\n",
        "import theano.tensor as ten\n",
        "#We are using Lasagne and Theano\n",
        "def build_NN(input_var = None):\n",
        "  l_in = lasagne.layers.InputLayer(shape=(None,1,28,28), input_var = input_var)\n",
        "#Adding the dropout layer, there will be 20% drop out\n",
        "  l_in_drop = lasagne.layers.DropoutLayer(l_in, p=0.2)\n",
        "#Each layer will take input from the previous layer\n",
        "#Here we are adding a layer with 800 nodes.\n",
        "  l_hid1 = lasagne.layers.DenseLayer(l_in_drop, num_units=800, nonlinearity = lasagne.nonlinearities.rectify, W = lasagne.init.GlorotUniform())\n",
        "#GlorotUniform scheme is a way to initialize weights randomly.\n",
        "#Now we will add a dropout layer of 50%\n",
        "  l_hid1_drop = lasagne.layers.DropoutLayer(l_hid1, p=0.2)\n",
        "#Add another layer.\n",
        "  l_hid2 = lasagne.layers.DenseLayer(l_hid1_drop, num_units=800, nonlinearity = lasagne.nonlinearities.rectify, W = lasagne.init.GlorotUniform())\n",
        "  l_hid2_drop = lasagne.layers.DropoutLayer(l_hid2, p=0.2)\n",
        "  l_hid3 = lasagne.layers.DenseLayer(l_hid2_drop, num_units=800, nonlinearity = lasagne.nonlinearities.rectify, W = lasagne.init.GlorotUniform())\n",
        "  \n",
        "  l_out = lasagne.layers.DenseLayer(l_hid3, num_units=10, nonlinearity = lasagne.nonlinearities.softmax)\n",
        "  return l_out\n",
        "input_var = ten.tensor4('inputs')\n",
        "target_var = ten.ivector('targets')\n",
        "network = build_NN(input_var)\n",
        "#Training the model\n",
        "#Computing the error at the present iteration\n",
        "prediction = lasagne.layers.get_output(network)\n",
        "loss = lasagne.objectives.categorical_crossentropy(prediction, target_var)\n",
        "loss = loss.mean()\n",
        "\n",
        "#We will tell the network how to update the weights based upon the error function\n",
        "params = lasagne.layers.get_all_params(network, trainable = True)\n",
        "#Updates is the inceremental changes in the weights params\n",
        "updates = lasagne.updates.nesterov_momentum(loss, params, learning_rate = 0.01, momentum = 0.9)\n",
        "#Nesterov Momentum Function is the extension of the concept of Stochastic Gradient Descent\n",
        "#Theano is used to compile a function that represents a single training step\n",
        "train_fn = theano.function([input_var, target_var], loss, updates = updates)\n"
      ],
      "execution_count": 0,
      "outputs": []
    },
    {
      "cell_type": "code",
      "metadata": {
        "id": "9DbIdXR6OP_H",
        "colab_type": "code",
        "outputId": "59bd6f65-fd52-4458-b5da-85fb4f0e3bfb",
        "colab": {
          "base_uri": "https://localhost:8080/",
          "height": 1000
        }
      },
      "source": [
        "#Feeding the training data to the neural network\n",
        "num_training_steps = 200\n",
        "for step in range(num_training_steps):\n",
        "  train_err = train_fn(X_train, Y_train)\n",
        "  print(\"Current step is \"+str(step))\n",
        "  print(train_err)"
      ],
      "execution_count": 0,
      "outputs": [
        {
          "output_type": "stream",
          "text": [
            "Current step is 0\n",
            "0.3806457591050133\n",
            "Current step is 1\n",
            "0.38166444983042797\n",
            "Current step is 2\n",
            "0.37851800677091274\n",
            "Current step is 3\n",
            "0.3787862646130188\n",
            "Current step is 4\n",
            "0.3747716491183873\n",
            "Current step is 5\n",
            "0.3765200351795871\n",
            "Current step is 6\n",
            "0.37525901738178935\n",
            "Current step is 7\n",
            "0.3780122895369639\n",
            "Current step is 8\n",
            "0.37655794909896834\n",
            "Current step is 9\n",
            "0.37954079777610533\n",
            "Current step is 10\n",
            "0.3738557486386867\n",
            "Current step is 11\n",
            "0.3748028916596428\n",
            "Current step is 12\n",
            "0.37403146484371763\n",
            "Current step is 13\n",
            "0.37191091526453013\n",
            "Current step is 14\n",
            "0.3684179319610229\n",
            "Current step is 15\n",
            "0.3739415101540589\n",
            "Current step is 16\n",
            "0.36984883120984846\n",
            "Current step is 17\n",
            "0.36705192856183055\n",
            "Current step is 18\n",
            "0.3699525565585961\n",
            "Current step is 19\n",
            "0.3682576703137333\n",
            "Current step is 20\n",
            "0.36859400668625186\n",
            "Current step is 21\n",
            "0.3679730366522121\n",
            "Current step is 22\n",
            "0.36518924579399675\n",
            "Current step is 23\n",
            "0.3646341674175495\n",
            "Current step is 24\n",
            "0.364083125753982\n",
            "Current step is 25\n",
            "0.36877555478789725\n",
            "Current step is 26\n",
            "0.3682058482684045\n",
            "Current step is 27\n",
            "0.3632081281054702\n",
            "Current step is 28\n",
            "0.3639640220754397\n",
            "Current step is 29\n",
            "0.3627864337099059\n",
            "Current step is 30\n",
            "0.3611738036850632\n",
            "Current step is 31\n",
            "0.35957978577169414\n",
            "Current step is 32\n",
            "0.36117265842185126\n",
            "Current step is 33\n",
            "0.3586353059697409\n"
          ],
          "name": "stdout"
        },
        {
          "output_type": "error",
          "ename": "KeyboardInterrupt",
          "evalue": "ignored",
          "traceback": [
            "\u001b[0;31m---------------------------------------------------------------------------\u001b[0m",
            "\u001b[0;31mKeyboardInterrupt\u001b[0m                         Traceback (most recent call last)",
            "\u001b[0;32m<ipython-input-30-3ebb9f615a82>\u001b[0m in \u001b[0;36m<module>\u001b[0;34m()\u001b[0m\n\u001b[1;32m      1\u001b[0m \u001b[0mnum_training_steps\u001b[0m \u001b[0;34m=\u001b[0m \u001b[0;36m200\u001b[0m\u001b[0;34m\u001b[0m\u001b[0;34m\u001b[0m\u001b[0m\n\u001b[1;32m      2\u001b[0m \u001b[0;32mfor\u001b[0m \u001b[0mstep\u001b[0m \u001b[0;32min\u001b[0m \u001b[0mrange\u001b[0m\u001b[0;34m(\u001b[0m\u001b[0mnum_training_steps\u001b[0m\u001b[0;34m)\u001b[0m\u001b[0;34m:\u001b[0m\u001b[0;34m\u001b[0m\u001b[0;34m\u001b[0m\u001b[0m\n\u001b[0;32m----> 3\u001b[0;31m   \u001b[0mtrain_err\u001b[0m \u001b[0;34m=\u001b[0m \u001b[0mtrain_fn\u001b[0m\u001b[0;34m(\u001b[0m\u001b[0mX_train\u001b[0m\u001b[0;34m,\u001b[0m \u001b[0mY_train\u001b[0m\u001b[0;34m)\u001b[0m\u001b[0;34m\u001b[0m\u001b[0;34m\u001b[0m\u001b[0m\n\u001b[0m\u001b[1;32m      4\u001b[0m   \u001b[0mprint\u001b[0m\u001b[0;34m(\u001b[0m\u001b[0;34m\"Current step is \"\u001b[0m\u001b[0;34m+\u001b[0m\u001b[0mstr\u001b[0m\u001b[0;34m(\u001b[0m\u001b[0mstep\u001b[0m\u001b[0;34m)\u001b[0m\u001b[0;34m)\u001b[0m\u001b[0;34m\u001b[0m\u001b[0;34m\u001b[0m\u001b[0m\n\u001b[1;32m      5\u001b[0m   \u001b[0mprint\u001b[0m\u001b[0;34m(\u001b[0m\u001b[0mtrain_err\u001b[0m\u001b[0;34m)\u001b[0m\u001b[0;34m\u001b[0m\u001b[0;34m\u001b[0m\u001b[0m\n",
            "\u001b[0;32m/usr/local/lib/python3.6/dist-packages/theano/compile/function_module.py\u001b[0m in \u001b[0;36m__call__\u001b[0;34m(self, *args, **kwargs)\u001b[0m\n\u001b[1;32m    901\u001b[0m         \u001b[0;32mtry\u001b[0m\u001b[0;34m:\u001b[0m\u001b[0;34m\u001b[0m\u001b[0;34m\u001b[0m\u001b[0m\n\u001b[1;32m    902\u001b[0m             \u001b[0moutputs\u001b[0m \u001b[0;34m=\u001b[0m\u001b[0;31m\\\u001b[0m\u001b[0;34m\u001b[0m\u001b[0;34m\u001b[0m\u001b[0m\n\u001b[0;32m--> 903\u001b[0;31m                 \u001b[0mself\u001b[0m\u001b[0;34m.\u001b[0m\u001b[0mfn\u001b[0m\u001b[0;34m(\u001b[0m\u001b[0;34m)\u001b[0m \u001b[0;32mif\u001b[0m \u001b[0moutput_subset\u001b[0m \u001b[0;32mis\u001b[0m \u001b[0;32mNone\u001b[0m \u001b[0;32melse\u001b[0m\u001b[0;31m\\\u001b[0m\u001b[0;34m\u001b[0m\u001b[0;34m\u001b[0m\u001b[0m\n\u001b[0m\u001b[1;32m    904\u001b[0m                 \u001b[0mself\u001b[0m\u001b[0;34m.\u001b[0m\u001b[0mfn\u001b[0m\u001b[0;34m(\u001b[0m\u001b[0moutput_subset\u001b[0m\u001b[0;34m=\u001b[0m\u001b[0moutput_subset\u001b[0m\u001b[0;34m)\u001b[0m\u001b[0;34m\u001b[0m\u001b[0;34m\u001b[0m\u001b[0m\n\u001b[1;32m    905\u001b[0m         \u001b[0;32mexcept\u001b[0m \u001b[0mException\u001b[0m\u001b[0;34m:\u001b[0m\u001b[0;34m\u001b[0m\u001b[0;34m\u001b[0m\u001b[0m\n",
            "\u001b[0;31mKeyboardInterrupt\u001b[0m: "
          ]
        }
      ]
    },
    {
      "cell_type": "code",
      "metadata": {
        "id": "8ad3yj9WQasY",
        "colab_type": "code",
        "outputId": "f485efb6-652f-40d9-b9f6-146df700afab",
        "colab": {
          "base_uri": "https://localhost:8080/",
          "height": 34
        }
      },
      "source": [
        "#We will check how the output is for one image\n",
        "\n",
        "test_prediction = lasagne.layers.get_output(network)\n",
        "val_fn = theano.function([input_var],test_prediction)\n",
        "val_fn([X_test[0]]) \n",
        "Y_test[0]\n",
        "test_prediction = lasagne.layers.get_output(network, deterministic = True)\n",
        "test_acc = ten.mean(ten.eq(ten.argmax(test_prediction, axis = 1),target_var),dtype=theano.config.floatX)\n",
        "acc_fn = theano.function([input_var, target_var], test_acc)\n",
        "acc_fn(X_test, Y_test)"
      ],
      "execution_count": 0,
      "outputs": [
        {
          "output_type": "execute_result",
          "data": {
            "text/plain": [
              "array(0.9252)"
            ]
          },
          "metadata": {
            "tags": []
          },
          "execution_count": 31
        }
      ]
    },
    {
      "cell_type": "code",
      "metadata": {
        "id": "xdR5gqJ629Sg",
        "colab_type": "code",
        "outputId": "92d7bc4d-39d1-4c84-b1fd-fe85cb9b127c",
        "colab": {
          "base_uri": "https://localhost:8080/",
          "height": 309
        }
      },
      "source": [
        "pip install --upgrade https://github.com/Theano/Theano/archive/master.zip"
      ],
      "execution_count": 0,
      "outputs": [
        {
          "output_type": "stream",
          "text": [
            "Collecting https://github.com/Theano/Theano/archive/master.zip\n",
            "\u001b[?25l  Downloading https://github.com/Theano/Theano/archive/master.zip\n",
            "\u001b[K     - 29.5MB 26.3MB/s\n",
            "\u001b[?25hRequirement already satisfied, skipping upgrade: numpy>=1.9.1 in /usr/local/lib/python3.6/dist-packages (from Theano==1.0.4+unknown) (1.17.3)\n",
            "Requirement already satisfied, skipping upgrade: scipy>=0.14 in /usr/local/lib/python3.6/dist-packages (from Theano==1.0.4+unknown) (1.3.1)\n",
            "Requirement already satisfied, skipping upgrade: six>=1.9.0 in /usr/local/lib/python3.6/dist-packages (from Theano==1.0.4+unknown) (1.12.0)\n",
            "Building wheels for collected packages: Theano\n",
            "  Building wheel for Theano (setup.py) ... \u001b[?25l\u001b[?25hdone\n",
            "  Created wheel for Theano: filename=Theano-1.0.4+unknown-cp36-none-any.whl size=2666479 sha256=4df52a7f43b471aef0d1476fece06752ebf7c08d49edd408b2a9d1057880a7e8\n",
            "  Stored in directory: /tmp/pip-ephem-wheel-cache-gqhnxe0o/wheels/33/73/96/0ed263c62a86e2485ea634e0d3ae8169d50fd66e3b252541db\n",
            "Successfully built Theano\n",
            "Installing collected packages: Theano\n",
            "  Found existing installation: Theano 1.0.4+unknown\n",
            "    Uninstalling Theano-1.0.4+unknown:\n",
            "      Successfully uninstalled Theano-1.0.4+unknown\n",
            "Successfully installed Theano-1.0.4+unknown\n"
          ],
          "name": "stdout"
        }
      ]
    },
    {
      "cell_type": "code",
      "metadata": {
        "id": "ClrECQUa3KVG",
        "colab_type": "code",
        "outputId": "db02b120-c78f-4bd7-89bb-2050600a9c21",
        "colab": {
          "base_uri": "https://localhost:8080/",
          "height": 255
        }
      },
      "source": [
        "pip install --upgrade https://github.com/Lasagne/Lasagne/archive/master.zip"
      ],
      "execution_count": 0,
      "outputs": [
        {
          "output_type": "stream",
          "text": [
            "Collecting https://github.com/Lasagne/Lasagne/archive/master.zip\n",
            "\u001b[?25l  Downloading https://github.com/Lasagne/Lasagne/archive/master.zip\n",
            "\u001b[K     | 2.0MB 1.6MB/s\n",
            "\u001b[?25hRequirement already satisfied, skipping upgrade: numpy in /usr/local/lib/python3.6/dist-packages (from Lasagne==0.2.dev1) (1.17.3)\n",
            "Building wheels for collected packages: Lasagne\n",
            "  Building wheel for Lasagne (setup.py) ... \u001b[?25l\u001b[?25hdone\n",
            "  Created wheel for Lasagne: filename=Lasagne-0.2.dev1-cp36-none-any.whl size=122750 sha256=d7f8f60a8bc228dc5a55ce680b17fd67f309030914665bb2d3eadd14cf444b1a\n",
            "  Stored in directory: /tmp/pip-ephem-wheel-cache-rzfg09ri/wheels/ca/4a/00/87f1777b229481fe76562df7c0cfb993bc88ed0cc37e3f0ed4\n",
            "Successfully built Lasagne\n",
            "Installing collected packages: Lasagne\n",
            "  Found existing installation: Lasagne 0.2.dev1\n",
            "    Uninstalling Lasagne-0.2.dev1:\n",
            "      Successfully uninstalled Lasagne-0.2.dev1\n",
            "Successfully installed Lasagne-0.2.dev1\n"
          ],
          "name": "stdout"
        }
      ]
    },
    {
      "cell_type": "code",
      "metadata": {
        "id": "hNY12aqd2GaS",
        "colab_type": "code",
        "outputId": "3f18423b-646d-4bfc-910f-8adf688d7846",
        "colab": {
          "base_uri": "https://localhost:8080/",
          "height": 921
        }
      },
      "source": [
        "pip install tensor"
      ],
      "execution_count": 0,
      "outputs": [
        {
          "output_type": "stream",
          "text": [
            "Collecting tensor\n",
            "\u001b[?25l  Downloading https://files.pythonhosted.org/packages/ed/87/796821bf9579557a5baac1c01c42bd56e3be47bdaf131779ccdd953f1c80/tensor-0.3.6.tar.gz (50kB)\n",
            "\u001b[K     |████████████████████████████████| 51kB 2.6MB/s \n",
            "\u001b[?25hCollecting Twisted\n",
            "\u001b[?25l  Downloading https://files.pythonhosted.org/packages/14/49/eb654da38b15285d1f594933eefff36ce03106356197dba28ee8f5721a79/Twisted-19.7.0-cp36-cp36m-manylinux1_x86_64.whl (3.1MB)\n",
            "\u001b[K     |████████████████████████████████| 3.1MB 14.5MB/s \n",
            "\u001b[?25hRequirement already satisfied: PyYaml in /usr/local/lib/python3.6/dist-packages (from tensor) (3.13)\n",
            "Requirement already satisfied: protobuf in /usr/local/lib/python3.6/dist-packages (from tensor) (3.10.0)\n",
            "Collecting construct\n",
            "\u001b[?25l  Downloading https://files.pythonhosted.org/packages/19/c0/f054941fa33d14378de66d2c0477d31f7ad97aa2e298a5771a7b20bc2039/construct-2.9.45.tar.gz (56kB)\n",
            "\u001b[K     |████████████████████████████████| 61kB 8.6MB/s \n",
            "\u001b[?25hCollecting pysnmp\n",
            "\u001b[?25l  Downloading https://files.pythonhosted.org/packages/25/7e/1e17facea54dd21c6a72db6ae57a5bfdd56edd54b8c4850668b554bdddba/pysnmp-4.4.12-py2.py3-none-any.whl (296kB)\n",
            "\u001b[K     |████████████████████████████████| 296kB 55.5MB/s \n",
            "\u001b[?25hRequirement already satisfied: attrs>=17.4.0 in /usr/local/lib/python3.6/dist-packages (from Twisted->tensor) (19.3.0)\n",
            "Collecting incremental>=16.10.1\n",
            "  Downloading https://files.pythonhosted.org/packages/f5/1d/c98a587dc06e107115cf4a58b49de20b19222c83d75335a192052af4c4b7/incremental-17.5.0-py2.py3-none-any.whl\n",
            "Collecting hyperlink>=17.1.1\n",
            "  Downloading https://files.pythonhosted.org/packages/7f/91/e916ca10a2de1cb7101a9b24da546fb90ee14629e23160086cf3361c4fb8/hyperlink-19.0.0-py2.py3-none-any.whl\n",
            "Collecting zope.interface>=4.4.2\n",
            "\u001b[?25l  Downloading https://files.pythonhosted.org/packages/19/17/1d198a6aaa9aa4590862fe3d3a2ed7dd808050cab4eebe8a2f2f813c1376/zope.interface-4.6.0-cp36-cp36m-manylinux1_x86_64.whl (167kB)\n",
            "\u001b[K     |████████████████████████████████| 174kB 55.1MB/s \n",
            "\u001b[?25hCollecting constantly>=15.1\n",
            "  Downloading https://files.pythonhosted.org/packages/b9/65/48c1909d0c0aeae6c10213340ce682db01b48ea900a7d9fce7a7910ff318/constantly-15.1.0-py2.py3-none-any.whl\n",
            "Collecting Automat>=0.3.0\n",
            "  Downloading https://files.pythonhosted.org/packages/e5/11/756922e977bb296a79ccf38e8d45cafee446733157d59bcd751d3aee57f5/Automat-0.8.0-py2.py3-none-any.whl\n",
            "Collecting PyHamcrest>=1.9.0\n",
            "\u001b[?25l  Downloading https://files.pythonhosted.org/packages/9a/d5/d37fd731b7d0e91afcc84577edeccf4638b4f9b82f5ffe2f8b62e2ddc609/PyHamcrest-1.9.0-py2.py3-none-any.whl (52kB)\n",
            "\u001b[K     |████████████████████████████████| 61kB 8.1MB/s \n",
            "\u001b[?25hRequirement already satisfied: six>=1.9 in /usr/local/lib/python3.6/dist-packages (from protobuf->tensor) (1.12.0)\n",
            "Requirement already satisfied: setuptools in /usr/local/lib/python3.6/dist-packages (from protobuf->tensor) (41.4.0)\n",
            "Collecting pycryptodomex\n",
            "\u001b[?25l  Downloading https://files.pythonhosted.org/packages/a0/a3/4f36a5b68c4188c6f7a087bd1b157094e6a71b8bd1cbe2535e685ae1b562/pycryptodomex-3.9.0-cp36-cp36m-manylinux1_x86_64.whl (9.7MB)\n",
            "\u001b[K     |████████████████████████████████| 9.7MB 43.3MB/s \n",
            "\u001b[?25hRequirement already satisfied: pyasn1>=0.2.3 in /usr/local/lib/python3.6/dist-packages (from pysnmp->tensor) (0.4.7)\n",
            "Collecting pysmi\n",
            "\u001b[?25l  Downloading https://files.pythonhosted.org/packages/1f/fc/02361d1c2b247de73070c457c4da98c448693154894c14f2d7b48dfabf7e/pysmi-0.3.4-py2.py3-none-any.whl (80kB)\n",
            "\u001b[K     |████████████████████████████████| 81kB 10.0MB/s \n",
            "\u001b[?25hRequirement already satisfied: idna>=2.5 in /usr/local/lib/python3.6/dist-packages (from hyperlink>=17.1.1->Twisted->tensor) (2.8)\n",
            "Collecting ply\n",
            "\u001b[?25l  Downloading https://files.pythonhosted.org/packages/a3/58/35da89ee790598a0700ea49b2a66594140f44dec458c07e8e3d4979137fc/ply-3.11-py2.py3-none-any.whl (49kB)\n",
            "\u001b[K     |████████████████████████████████| 51kB 7.2MB/s \n",
            "\u001b[?25hBuilding wheels for collected packages: tensor, construct\n",
            "  Building wheel for tensor (setup.py) ... \u001b[?25l\u001b[?25hdone\n",
            "  Created wheel for tensor: filename=tensor-0.3.6-cp36-none-any.whl size=71570 sha256=d400678f10ad112a9b376ec59b4d511217d06db1e014dcd5396e124228bf9fd8\n",
            "  Stored in directory: /root/.cache/pip/wheels/32/ba/ac/dbd210e9db9e5d549b3d98c57713684c5768298f259b1925ef\n",
            "  Building wheel for construct (setup.py) ... \u001b[?25l\u001b[?25hdone\n",
            "  Created wheel for construct: filename=construct-2.9.45-cp36-none-any.whl size=58289 sha256=28a01cb6ab2af5f20d96e6ad1d4ef3650f82f731da75588aff0a9dad8539c64a\n",
            "  Stored in directory: /root/.cache/pip/wheels/22/73/01/9e7468947349b14ce8f07c3fc7b430b3a4ddad0837cda6ea73\n",
            "Successfully built tensor construct\n",
            "Installing collected packages: incremental, hyperlink, zope.interface, constantly, Automat, PyHamcrest, Twisted, construct, pycryptodomex, ply, pysmi, pysnmp, tensor\n",
            "Successfully installed Automat-0.8.0 PyHamcrest-1.9.0 Twisted-19.7.0 constantly-15.1.0 construct-2.9.45 hyperlink-19.0.0 incremental-17.5.0 ply-3.11 pycryptodomex-3.9.0 pysmi-0.3.4 pysnmp-4.4.12 tensor-0.3.6 zope.interface-4.6.0\n"
          ],
          "name": "stdout"
        }
      ]
    },
    {
      "cell_type": "code",
      "metadata": {
        "id": "x4aWW2xxSt_r",
        "colab_type": "code",
        "outputId": "85508680-3498-4fdc-b1b8-bb1dc44f7c62",
        "colab": {
          "base_uri": "https://localhost:8080/",
          "height": 34
        }
      },
      "source": [
        "print(lasagne.layers)"
      ],
      "execution_count": 0,
      "outputs": [
        {
          "output_type": "stream",
          "text": [
            "<module 'lasagne.layers' from '/usr/local/lib/python3.6/dist-packages/lasagne/layers/__init__.py'>\n"
          ],
          "name": "stdout"
        }
      ]
    }
  ]
}